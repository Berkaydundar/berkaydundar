{
 "cells": [
  {
   "cell_type": "code",
   "execution_count": 2,
   "metadata": {},
   "outputs": [
    {
     "name": "stdout",
     "output_type": "stream",
     "text": [
      "factor of x** 1\n",
      "factor of x 2\n",
      "factor of 1 1\n",
      "diskriminant: 0\n",
      "x1: -1.0\n",
      "x2: -1.0\n"
     ]
    }
   ],
   "source": [
    "a = ('factor of x** :  ')\n",
    "b = ('factor of x  :  ')\n",
    "c = ('factor of 1  :  ')\n",
    "a = int(input('factor of x** '))\n",
    "b = int(input('factor of x '))\n",
    "c = int(input('factor of 1 '))\n",
    "delta = (b**2) - 4*a*c\n",
    "print('diskriminant:' , delta)\n",
    "x1 = ( '(-b - delta**0.5)/(2*a)' )\n",
    "x2 = ( '(-b + delta**0.5)/(2*a)' )\n",
    "print( 'x1:' ,(-b - delta**0.5)/(2*a))\n",
    "print( 'x2:' ,(-b + delta**0.5)/(2*a))"
   ]
  }
 ],
 "metadata": {
  "kernelspec": {
   "display_name": "Python 3",
   "language": "python",
   "name": "python3"
  },
  "language_info": {
   "codemirror_mode": {
    "name": "ipython",
    "version": 3
   },
   "file_extension": ".py",
   "mimetype": "text/x-python",
   "name": "python",
   "nbconvert_exporter": "python",
   "pygments_lexer": "ipython3",
   "version": "3.6.5"
  }
 },
 "nbformat": 4,
 "nbformat_minor": 2
}
